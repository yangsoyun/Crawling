{
 "cells": [
  {
   "cell_type": "code",
   "execution_count": 2,
   "metadata": {},
   "outputs": [],
   "source": [
    "# Google Image Crawler\n",
    "\n",
    "import requests\n",
    "from bs4 import BeautifulSoup\n",
    "import os\n",
    "from urllib.parse import urljoin"
   ]
  },
  {
   "cell_type": "code",
   "execution_count": 3,
   "metadata": {},
   "outputs": [],
   "source": [
    "# 구글 이미지 검색 URL\n",
    "url = f\"https://www.google.com/search?q=beautiful+roses&sca_esv=f89e5e6047e0c685&udm=2&biw=1920&bih=911&ei=R3ZGZpfsIcXt2roPhZiDoAE&ved=0ahUKEwjXq7XSipOGAxXFtlYBHQXMABQQ4dUDCBA&uact=5&oq=beautiful+roses&gs_lp=Egxnd3Mtd2l6LXNlcnAiD2JlYXV0aWZ1bCByb3NlczIFEAAYgAQyBRAAGIAEMgQQABgeMgQQABgeMgQQABgeMgQQABgeMgQQABgeMgQQABgeMgQQABgeMgQQABgeSIMlUABYlCRwA3gAkAEBmAGsAaABmhGqAQQwLjE1uAEDyAEA-AEBmAIRoAKLEcICCBAAGIAEGLEDmAMAkgcEMy4xNKAHlUY&sclient=gws-wiz-serp\"\n",
    "\n",
    "# 사진 저장 디렉토리 설정\n",
    "save_dir = \"downloaded_images\"\n",
    "if not os.path.exists(save_dir):\n",
    "    os.makedirs(save_dir)"
   ]
  },
  {
   "cell_type": "code",
   "execution_count": 4,
   "metadata": {},
   "outputs": [],
   "source": [
    "# HTTP 요청 및 HTML 파싱\n",
    "response = requests.get(url)\n",
    "soup = BeautifulSoup(response.text, \"html.parser\")"
   ]
  },
  {
   "cell_type": "code",
   "execution_count": 6,
   "metadata": {},
   "outputs": [
    {
     "name": "stdout",
     "output_type": "stream",
     "text": [
      "Found 20 images with class containing 'DS1iW'\n"
     ]
    }
   ],
   "source": [
    "img_tags = [img for img in soup.find_all(\"img\") if \"DS1iW\" in img.get(\"class\", [])]\n",
    "print(f\"Found {len(img_tags)} images with class containing 'DS1iW'\")"
   ]
  },
  {
   "cell_type": "code",
   "execution_count": 7,
   "metadata": {},
   "outputs": [
    {
     "name": "stdout",
     "output_type": "stream",
     "text": [
      "image_0.jpg 다운로드 완료\n",
      "image_1.jpg 다운로드 완료\n",
      "image_2.jpg 다운로드 완료\n",
      "image_3.jpg 다운로드 완료\n",
      "image_4.jpg 다운로드 완료\n",
      "image_5.jpg 다운로드 완료\n",
      "image_6.jpg 다운로드 완료\n",
      "image_7.jpg 다운로드 완료\n",
      "image_8.jpg 다운로드 완료\n",
      "image_9.jpg 다운로드 완료\n",
      "image_10.jpg 다운로드 완료\n",
      "image_11.jpg 다운로드 완료\n",
      "image_12.jpg 다운로드 완료\n",
      "image_13.jpg 다운로드 완료\n",
      "image_14.jpg 다운로드 완료\n",
      "image_15.jpg 다운로드 완료\n",
      "image_16.jpg 다운로드 완료\n",
      "image_17.jpg 다운로드 완료\n",
      "image_18.jpg 다운로드 완료\n",
      "image_19.jpg 다운로드 완료\n",
      "총 20장의 이미지를 다운로드했습니다.\n"
     ]
    }
   ],
   "source": [
    "# 최대 100장까지만 다운로드\n",
    "max_images = 100\n",
    "for idx, img_tag in enumerate(img_tags[:max_images]):\n",
    "    img_url = img_tag[\"src\"]\n",
    "    try:\n",
    "        img_data = requests.get(img_url).content\n",
    "        filename = f\"image_{idx}.jpg\"\n",
    "        filepath = os.path.join(save_dir, filename)\n",
    "        with open(filepath, \"wb\") as f:\n",
    "            f.write(img_data)\n",
    "        print(f\"{filename} 다운로드 완료\")\n",
    "    except Exception as e:\n",
    "        print(f\"Error downloading {img_url}: {e}\")\n",
    "print(f\"총 {min(len(img_tags), max_images)}장의 이미지를 다운로드했습니다.\")"
   ]
  },
  {
   "cell_type": "code",
   "execution_count": 10,
   "metadata": {},
   "outputs": [
    {
     "name": "stdout",
     "output_type": "stream",
     "text": [
      "Found 21 image tags\n",
      "Error downloading /images/branding/searchlogo/1x/googlelogo_desk_heirloom_color_150x55dp.gif: Invalid URL '/images/branding/searchlogo/1x/googlelogo_desk_heirloom_color_150x55dp.gif': No scheme supplied. Perhaps you meant https:///images/branding/searchlogo/1x/googlelogo_desk_heirloom_color_150x55dp.gif?\n",
      "image_1.jpg 다운로드 완료\n",
      "image_2.jpg 다운로드 완료\n",
      "image_3.jpg 다운로드 완료\n",
      "image_4.jpg 다운로드 완료\n",
      "image_5.jpg 다운로드 완료\n",
      "image_6.jpg 다운로드 완료\n",
      "image_7.jpg 다운로드 완료\n",
      "image_8.jpg 다운로드 완료\n",
      "image_9.jpg 다운로드 완료\n",
      "image_10.jpg 다운로드 완료\n",
      "image_11.jpg 다운로드 완료\n",
      "image_12.jpg 다운로드 완료\n",
      "image_13.jpg 다운로드 완료\n",
      "image_14.jpg 다운로드 완료\n",
      "image_15.jpg 다운로드 완료\n",
      "image_16.jpg 다운로드 완료\n",
      "image_17.jpg 다운로드 완료\n",
      "image_18.jpg 다운로드 완료\n",
      "image_19.jpg 다운로드 완료\n",
      "image_20.jpg 다운로드 완료\n",
      "총 21장의 이미지를 다운로드했습니다.\n"
     ]
    }
   ],
   "source": [
    "import requests\n",
    "from bs4 import BeautifulSoup\n",
    "import os\n",
    "from urllib.parse import urljoin\n",
    "\n",
    "query = \"Day6\"\n",
    "url = f\"https://www.google.com/search?q={query}&tbm=isch\"\n",
    "\n",
    "save_dir = \"downloaded_images2\"\n",
    "if not os.path.exists(save_dir):\n",
    "    os.makedirs(save_dir)\n",
    "    \n",
    "response = requests.get(url)\n",
    "soup = BeautifulSoup(response.text, \"html.parser\")\n",
    "\n",
    "# 모든 <img> 태그 찾기\n",
    "img_tags = soup.find_all(\"img\")\n",
    "print(f\"Found {len(img_tags)} image tags\")\n",
    "\n",
    "# 최대 100장까지만 다운로드\n",
    "max_images = 100\n",
    "for idx, img_tag in enumerate(img_tags[:max_images]):\n",
    "    img_url = img_tag[\"src\"]\n",
    "    try:\n",
    "        img_data = requests.get(img_url).content\n",
    "        filename = f\"image_{idx}.jpg\"\n",
    "        filepath = os.path.join(save_dir, filename)\n",
    "        with open(filepath, \"wb\") as f:\n",
    "            f.write(img_data)\n",
    "        print(f\"{filename} 다운로드 완료\")\n",
    "    except Exception as e:\n",
    "        print(f\"Error downloading {img_url}: {e}\")\n",
    "\n",
    "print(f\"총 {min(len(img_tags), max_images)}장의 이미지를 다운로드했습니다.\")"
   ]
  }
 ],
 "metadata": {
  "kernelspec": {
   "display_name": "Python 3",
   "language": "python",
   "name": "python3"
  },
  "language_info": {
   "codemirror_mode": {
    "name": "ipython",
    "version": 3
   },
   "file_extension": ".py",
   "mimetype": "text/x-python",
   "name": "python",
   "nbconvert_exporter": "python",
   "pygments_lexer": "ipython3",
   "version": "3.11.7"
  }
 },
 "nbformat": 4,
 "nbformat_minor": 2
}
